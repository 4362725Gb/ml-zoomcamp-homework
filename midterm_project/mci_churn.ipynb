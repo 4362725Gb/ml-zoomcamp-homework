{
 "cells": [
  {
   "cell_type": "markdown",
   "id": "59cb8447-ff04-4ca3-8be4-17ea1a6e5da5",
   "metadata": {},
   "source": [
    "# MCI customer churn prediction\n"
   ]
  },
  {
   "cell_type": "code",
   "execution_count": 23,
   "id": "bcdf4904-ee37-4b9b-9339-c7718f5574d4",
   "metadata": {},
   "outputs": [],
   "source": [
    "import pandas as pd\n",
    "import numpy as np\n",
    "\n",
    "# import matplotlib.pyplot as plt"
   ]
  },
  {
   "cell_type": "markdown",
   "id": "1573ef87-51ab-43c9-8360-1491b96b8846",
   "metadata": {},
   "source": [
    "## Data prepration"
   ]
  },
  {
   "cell_type": "code",
   "execution_count": 5,
   "id": "fa53cf92-fb7f-45a9-b21e-fd7221dc974e",
   "metadata": {},
   "outputs": [
    {
     "name": "stdout",
     "output_type": "stream",
     "text": [
      "Customer_Churn.csv  mci_churn.ipynb\n"
     ]
    }
   ],
   "source": [
    "ls"
   ]
  },
  {
   "cell_type": "code",
   "execution_count": 6,
   "id": "7e874c58-cf54-4e47-8434-df3ae8fc0cec",
   "metadata": {},
   "outputs": [],
   "source": [
    "data = 'Customer_Churn.csv'"
   ]
  },
  {
   "cell_type": "code",
   "execution_count": 7,
   "id": "4fe5d4e1-f26e-4de0-bd49-d4e56b5cbc88",
   "metadata": {},
   "outputs": [],
   "source": [
    "df = pd.read_csv(data)"
   ]
  },
  {
   "cell_type": "markdown",
   "id": "eff07711-9259-4c38-be76-dbb6de8d8b04",
   "metadata": {},
   "source": [
    "## EDA & Setting up validation framework"
   ]
  },
  {
   "cell_type": "code",
   "execution_count": 8,
   "id": "d7f59207-06ab-4c05-93bc-bcb30721f61e",
   "metadata": {},
   "outputs": [
    {
     "data": {
      "text/html": [
       "<div>\n",
       "<style scoped>\n",
       "    .dataframe tbody tr th:only-of-type {\n",
       "        vertical-align: middle;\n",
       "    }\n",
       "\n",
       "    .dataframe tbody tr th {\n",
       "        vertical-align: top;\n",
       "    }\n",
       "\n",
       "    .dataframe thead th {\n",
       "        text-align: right;\n",
       "    }\n",
       "</style>\n",
       "<table border=\"1\" class=\"dataframe\">\n",
       "  <thead>\n",
       "    <tr style=\"text-align: right;\">\n",
       "      <th></th>\n",
       "      <th>0</th>\n",
       "      <th>1</th>\n",
       "      <th>2</th>\n",
       "      <th>3</th>\n",
       "      <th>4</th>\n",
       "    </tr>\n",
       "  </thead>\n",
       "  <tbody>\n",
       "    <tr>\n",
       "      <th>Call  Failure</th>\n",
       "      <td>8.00</td>\n",
       "      <td>0.000</td>\n",
       "      <td>10.00</td>\n",
       "      <td>10.00</td>\n",
       "      <td>3.000</td>\n",
       "    </tr>\n",
       "    <tr>\n",
       "      <th>Complains</th>\n",
       "      <td>0.00</td>\n",
       "      <td>0.000</td>\n",
       "      <td>0.00</td>\n",
       "      <td>0.00</td>\n",
       "      <td>0.000</td>\n",
       "    </tr>\n",
       "    <tr>\n",
       "      <th>Subscription  Length</th>\n",
       "      <td>38.00</td>\n",
       "      <td>39.000</td>\n",
       "      <td>37.00</td>\n",
       "      <td>38.00</td>\n",
       "      <td>38.000</td>\n",
       "    </tr>\n",
       "    <tr>\n",
       "      <th>Charge  Amount</th>\n",
       "      <td>0.00</td>\n",
       "      <td>0.000</td>\n",
       "      <td>0.00</td>\n",
       "      <td>0.00</td>\n",
       "      <td>0.000</td>\n",
       "    </tr>\n",
       "    <tr>\n",
       "      <th>Seconds of Use</th>\n",
       "      <td>4370.00</td>\n",
       "      <td>318.000</td>\n",
       "      <td>2453.00</td>\n",
       "      <td>4198.00</td>\n",
       "      <td>2393.000</td>\n",
       "    </tr>\n",
       "    <tr>\n",
       "      <th>Frequency of use</th>\n",
       "      <td>71.00</td>\n",
       "      <td>5.000</td>\n",
       "      <td>60.00</td>\n",
       "      <td>66.00</td>\n",
       "      <td>58.000</td>\n",
       "    </tr>\n",
       "    <tr>\n",
       "      <th>Frequency of SMS</th>\n",
       "      <td>5.00</td>\n",
       "      <td>7.000</td>\n",
       "      <td>359.00</td>\n",
       "      <td>1.00</td>\n",
       "      <td>2.000</td>\n",
       "    </tr>\n",
       "    <tr>\n",
       "      <th>Distinct Called Numbers</th>\n",
       "      <td>17.00</td>\n",
       "      <td>4.000</td>\n",
       "      <td>24.00</td>\n",
       "      <td>35.00</td>\n",
       "      <td>33.000</td>\n",
       "    </tr>\n",
       "    <tr>\n",
       "      <th>Age Group</th>\n",
       "      <td>3.00</td>\n",
       "      <td>2.000</td>\n",
       "      <td>3.00</td>\n",
       "      <td>1.00</td>\n",
       "      <td>1.000</td>\n",
       "    </tr>\n",
       "    <tr>\n",
       "      <th>Tariff Plan</th>\n",
       "      <td>1.00</td>\n",
       "      <td>1.000</td>\n",
       "      <td>1.00</td>\n",
       "      <td>1.00</td>\n",
       "      <td>1.000</td>\n",
       "    </tr>\n",
       "    <tr>\n",
       "      <th>Status</th>\n",
       "      <td>1.00</td>\n",
       "      <td>2.000</td>\n",
       "      <td>1.00</td>\n",
       "      <td>1.00</td>\n",
       "      <td>1.000</td>\n",
       "    </tr>\n",
       "    <tr>\n",
       "      <th>Age</th>\n",
       "      <td>30.00</td>\n",
       "      <td>25.000</td>\n",
       "      <td>30.00</td>\n",
       "      <td>15.00</td>\n",
       "      <td>15.000</td>\n",
       "    </tr>\n",
       "    <tr>\n",
       "      <th>Customer Value</th>\n",
       "      <td>197.64</td>\n",
       "      <td>46.035</td>\n",
       "      <td>1536.52</td>\n",
       "      <td>240.02</td>\n",
       "      <td>145.805</td>\n",
       "    </tr>\n",
       "    <tr>\n",
       "      <th>Churn</th>\n",
       "      <td>0.00</td>\n",
       "      <td>0.000</td>\n",
       "      <td>0.00</td>\n",
       "      <td>0.00</td>\n",
       "      <td>0.000</td>\n",
       "    </tr>\n",
       "  </tbody>\n",
       "</table>\n",
       "</div>"
      ],
      "text/plain": [
       "                               0        1        2        3         4\n",
       "Call  Failure               8.00    0.000    10.00    10.00     3.000\n",
       "Complains                   0.00    0.000     0.00     0.00     0.000\n",
       "Subscription  Length       38.00   39.000    37.00    38.00    38.000\n",
       "Charge  Amount              0.00    0.000     0.00     0.00     0.000\n",
       "Seconds of Use           4370.00  318.000  2453.00  4198.00  2393.000\n",
       "Frequency of use           71.00    5.000    60.00    66.00    58.000\n",
       "Frequency of SMS            5.00    7.000   359.00     1.00     2.000\n",
       "Distinct Called Numbers    17.00    4.000    24.00    35.00    33.000\n",
       "Age Group                   3.00    2.000     3.00     1.00     1.000\n",
       "Tariff Plan                 1.00    1.000     1.00     1.00     1.000\n",
       "Status                      1.00    2.000     1.00     1.00     1.000\n",
       "Age                        30.00   25.000    30.00    15.00    15.000\n",
       "Customer Value            197.64   46.035  1536.52   240.02   145.805\n",
       "Churn                       0.00    0.000     0.00     0.00     0.000"
      ]
     },
     "execution_count": 8,
     "metadata": {},
     "output_type": "execute_result"
    }
   ],
   "source": [
    "df.head().T"
   ]
  },
  {
   "cell_type": "code",
   "execution_count": 9,
   "id": "06c34231-5176-4c2d-9060-5b8c3a80eaf3",
   "metadata": {},
   "outputs": [
    {
     "name": "stdout",
     "output_type": "stream",
     "text": [
      "<class 'pandas.core.frame.DataFrame'>\n",
      "RangeIndex: 3150 entries, 0 to 3149\n",
      "Data columns (total 14 columns):\n",
      " #   Column                   Non-Null Count  Dtype  \n",
      "---  ------                   --------------  -----  \n",
      " 0   Call  Failure            3150 non-null   int64  \n",
      " 1   Complains                3150 non-null   int64  \n",
      " 2   Subscription  Length     3150 non-null   int64  \n",
      " 3   Charge  Amount           3150 non-null   int64  \n",
      " 4   Seconds of Use           3150 non-null   int64  \n",
      " 5   Frequency of use         3150 non-null   int64  \n",
      " 6   Frequency of SMS         3150 non-null   int64  \n",
      " 7   Distinct Called Numbers  3150 non-null   int64  \n",
      " 8   Age Group                3150 non-null   int64  \n",
      " 9   Tariff Plan              3150 non-null   int64  \n",
      " 10  Status                   3150 non-null   int64  \n",
      " 11  Age                      3150 non-null   int64  \n",
      " 12  Customer Value           3150 non-null   float64\n",
      " 13  Churn                    3150 non-null   int64  \n",
      "dtypes: float64(1), int64(13)\n",
      "memory usage: 344.7 KB\n"
     ]
    }
   ],
   "source": [
    "df.info()"
   ]
  },
  {
   "cell_type": "code",
   "execution_count": 24,
   "id": "44cff797-38d0-4e97-bd22-26e7e3ce0e0b",
   "metadata": {},
   "outputs": [],
   "source": [
    "df.columns = df.columns.str.lower().str.replace(' ', '_')"
   ]
  },
  {
   "cell_type": "code",
   "execution_count": 18,
   "id": "acee2069-ba60-403b-947a-6a806bb2cc55",
   "metadata": {},
   "outputs": [
    {
     "data": {
      "text/plain": [
       "array([0, 1])"
      ]
     },
     "execution_count": 18,
     "metadata": {},
     "output_type": "execute_result"
    }
   ],
   "source": [
    "df.churn.unique()"
   ]
  },
  {
   "cell_type": "code",
   "execution_count": 25,
   "id": "1ec803fe-4cc7-4c7a-ba02-83ac91ebbb91",
   "metadata": {},
   "outputs": [
    {
     "data": {
      "text/plain": [
       "call__failure              0\n",
       "complains                  0\n",
       "subscription__length       0\n",
       "charge__amount             0\n",
       "seconds_of_use             0\n",
       "frequency_of_use           0\n",
       "frequency_of_sms           0\n",
       "distinct_called_numbers    0\n",
       "age_group                  0\n",
       "tariff_plan                0\n",
       "status                     0\n",
       "age                        0\n",
       "customer_value             0\n",
       "churn                      0\n",
       "dtype: int64"
      ]
     },
     "execution_count": 25,
     "metadata": {},
     "output_type": "execute_result"
    }
   ],
   "source": [
    "df.isnull().sum()"
   ]
  },
  {
   "cell_type": "code",
   "execution_count": 31,
   "id": "6dd39c47-0123-45e1-a06b-df20a25d5510",
   "metadata": {},
   "outputs": [
    {
     "data": {
      "text/plain": [
       "False"
      ]
     },
     "execution_count": 31,
     "metadata": {},
     "output_type": "execute_result"
    }
   ],
   "source": [
    "any(df.dtypes == 'object')"
   ]
  },
  {
   "cell_type": "code",
   "execution_count": 39,
   "id": "575fc83e-f288-4a49-8742-1f1b357b89a9",
   "metadata": {},
   "outputs": [
    {
     "data": {
      "text/plain": [
       "495"
      ]
     },
     "execution_count": 39,
     "metadata": {},
     "output_type": "execute_result"
    }
   ],
   "source": [
    "sum(df.churn == 1)"
   ]
  },
  {
   "cell_type": "code",
   "execution_count": 40,
   "id": "56ae1753-d0c5-46c3-aefd-610aac5734af",
   "metadata": {},
   "outputs": [],
   "source": [
    "from sklearn.model_selection import train_test_split"
   ]
  },
  {
   "cell_type": "code",
   "execution_count": 42,
   "id": "300db920-221f-4e07-a721-ee310fb80cc7",
   "metadata": {},
   "outputs": [],
   "source": [
    "df_full_train , df_test = train_test_split(df , test_size=.2 , random_state=42)"
   ]
  },
  {
   "cell_type": "code",
   "execution_count": 53,
   "id": "de7f5c76-3128-42c5-878a-3e3d3d0d7901",
   "metadata": {},
   "outputs": [],
   "source": [
    "df_train , df_val = train_test_split(df_full_train , test_size=.25 , random_state=42)"
   ]
  },
  {
   "cell_type": "code",
   "execution_count": 54,
   "id": "6f7a1ea7-31ca-41f7-80d5-940b611fd964",
   "metadata": {},
   "outputs": [
    {
     "data": {
      "text/plain": [
       "(1890, 630, 630)"
      ]
     },
     "execution_count": 54,
     "metadata": {},
     "output_type": "execute_result"
    }
   ],
   "source": [
    "len(df_train), len(df_test) , len(df_val)"
   ]
  },
  {
   "cell_type": "code",
   "execution_count": null,
   "id": "2b5d6486-70c2-4158-85f7-6f2c6015d785",
   "metadata": {},
   "outputs": [],
   "source": []
  }
 ],
 "metadata": {
  "kernelspec": {
   "display_name": "Python 3 (ipykernel)",
   "language": "python",
   "name": "python3"
  },
  "language_info": {
   "codemirror_mode": {
    "name": "ipython",
    "version": 3
   },
   "file_extension": ".py",
   "mimetype": "text/x-python",
   "name": "python",
   "nbconvert_exporter": "python",
   "pygments_lexer": "ipython3",
   "version": "3.12.1"
  }
 },
 "nbformat": 4,
 "nbformat_minor": 5
}
