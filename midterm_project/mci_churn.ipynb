{
 "cells": [
  {
   "cell_type": "markdown",
   "id": "59cb8447-ff04-4ca3-8be4-17ea1a6e5da5",
   "metadata": {},
   "source": [
    "# MCI customer churn prediction\n"
   ]
  },
  {
   "cell_type": "markdown",
   "id": "2a7ed7af-9d28-420c-b8f5-fb36c5ad4493",
   "metadata": {
    "jp-MarkdownHeadingCollapsed": true
   },
   "source": [
    "## Loding Libraries "
   ]
  },
  {
   "cell_type": "code",
   "execution_count": 72,
   "id": "bcdf4904-ee37-4b9b-9339-c7718f5574d4",
   "metadata": {},
   "outputs": [],
   "source": [
    "import pandas as pd\n",
    "import numpy as np\n",
    "import seaborn as sns\n",
    "import matplotlib.pyplot as plt\n",
    "# import matplotlib.pyplot as plt"
   ]
  },
  {
   "cell_type": "markdown",
   "id": "1573ef87-51ab-43c9-8360-1491b96b8846",
   "metadata": {
    "jp-MarkdownHeadingCollapsed": true
   },
   "source": [
    "## Data prepration"
   ]
  },
  {
   "cell_type": "code",
   "execution_count": 31,
   "id": "fa53cf92-fb7f-45a9-b21e-fd7221dc974e",
   "metadata": {},
   "outputs": [
    {
     "name": "stderr",
     "output_type": "stream",
     "text": [
      "160.22s - pydevd: Sending message related to process being replaced timed-out after 5 seconds\n"
     ]
    },
    {
     "name": "stdout",
     "output_type": "stream",
     "text": [
      "\u001b[0m\u001b[01;32mCustomer_Churn.csv\u001b[0m*  \u001b[01;32mmci_churn.ipynb\u001b[0m*\n"
     ]
    }
   ],
   "source": [
    "ls"
   ]
  },
  {
   "cell_type": "code",
   "execution_count": 32,
   "id": "7e874c58-cf54-4e47-8434-df3ae8fc0cec",
   "metadata": {},
   "outputs": [],
   "source": [
    "data = 'Customer_Churn.csv'"
   ]
  },
  {
   "cell_type": "code",
   "execution_count": 33,
   "id": "4fe5d4e1-f26e-4de0-bd49-d4e56b5cbc88",
   "metadata": {},
   "outputs": [],
   "source": [
    "df = pd.read_csv(data)"
   ]
  },
  {
   "cell_type": "markdown",
   "id": "eff07711-9259-4c38-be76-dbb6de8d8b04",
   "metadata": {
    "jp-MarkdownHeadingCollapsed": true
   },
   "source": [
    "## EDA & Setting up validation framework"
   ]
  },
  {
   "cell_type": "markdown",
   "id": "9c56b5ba-9a2f-4abb-b010-0b3b9ca01cb8",
   "metadata": {},
   "source": [
    "### data exploration"
   ]
  },
  {
   "cell_type": "code",
   "execution_count": 34,
   "id": "d7f59207-06ab-4c05-93bc-bcb30721f61e",
   "metadata": {},
   "outputs": [
    {
     "data": {
      "text/html": [
       "<div>\n",
       "<style scoped>\n",
       "    .dataframe tbody tr th:only-of-type {\n",
       "        vertical-align: middle;\n",
       "    }\n",
       "\n",
       "    .dataframe tbody tr th {\n",
       "        vertical-align: top;\n",
       "    }\n",
       "\n",
       "    .dataframe thead th {\n",
       "        text-align: right;\n",
       "    }\n",
       "</style>\n",
       "<table border=\"1\" class=\"dataframe\">\n",
       "  <thead>\n",
       "    <tr style=\"text-align: right;\">\n",
       "      <th></th>\n",
       "      <th>0</th>\n",
       "      <th>1</th>\n",
       "      <th>2</th>\n",
       "      <th>3</th>\n",
       "      <th>4</th>\n",
       "    </tr>\n",
       "  </thead>\n",
       "  <tbody>\n",
       "    <tr>\n",
       "      <th>Call  Failure</th>\n",
       "      <td>8.00</td>\n",
       "      <td>0.000</td>\n",
       "      <td>10.00</td>\n",
       "      <td>10.00</td>\n",
       "      <td>3.000</td>\n",
       "    </tr>\n",
       "    <tr>\n",
       "      <th>Complains</th>\n",
       "      <td>0.00</td>\n",
       "      <td>0.000</td>\n",
       "      <td>0.00</td>\n",
       "      <td>0.00</td>\n",
       "      <td>0.000</td>\n",
       "    </tr>\n",
       "    <tr>\n",
       "      <th>Subscription  Length</th>\n",
       "      <td>38.00</td>\n",
       "      <td>39.000</td>\n",
       "      <td>37.00</td>\n",
       "      <td>38.00</td>\n",
       "      <td>38.000</td>\n",
       "    </tr>\n",
       "    <tr>\n",
       "      <th>Charge  Amount</th>\n",
       "      <td>0.00</td>\n",
       "      <td>0.000</td>\n",
       "      <td>0.00</td>\n",
       "      <td>0.00</td>\n",
       "      <td>0.000</td>\n",
       "    </tr>\n",
       "    <tr>\n",
       "      <th>Seconds of Use</th>\n",
       "      <td>4370.00</td>\n",
       "      <td>318.000</td>\n",
       "      <td>2453.00</td>\n",
       "      <td>4198.00</td>\n",
       "      <td>2393.000</td>\n",
       "    </tr>\n",
       "    <tr>\n",
       "      <th>Frequency of use</th>\n",
       "      <td>71.00</td>\n",
       "      <td>5.000</td>\n",
       "      <td>60.00</td>\n",
       "      <td>66.00</td>\n",
       "      <td>58.000</td>\n",
       "    </tr>\n",
       "    <tr>\n",
       "      <th>Frequency of SMS</th>\n",
       "      <td>5.00</td>\n",
       "      <td>7.000</td>\n",
       "      <td>359.00</td>\n",
       "      <td>1.00</td>\n",
       "      <td>2.000</td>\n",
       "    </tr>\n",
       "    <tr>\n",
       "      <th>Distinct Called Numbers</th>\n",
       "      <td>17.00</td>\n",
       "      <td>4.000</td>\n",
       "      <td>24.00</td>\n",
       "      <td>35.00</td>\n",
       "      <td>33.000</td>\n",
       "    </tr>\n",
       "    <tr>\n",
       "      <th>Age Group</th>\n",
       "      <td>3.00</td>\n",
       "      <td>2.000</td>\n",
       "      <td>3.00</td>\n",
       "      <td>1.00</td>\n",
       "      <td>1.000</td>\n",
       "    </tr>\n",
       "    <tr>\n",
       "      <th>Tariff Plan</th>\n",
       "      <td>1.00</td>\n",
       "      <td>1.000</td>\n",
       "      <td>1.00</td>\n",
       "      <td>1.00</td>\n",
       "      <td>1.000</td>\n",
       "    </tr>\n",
       "    <tr>\n",
       "      <th>Status</th>\n",
       "      <td>1.00</td>\n",
       "      <td>2.000</td>\n",
       "      <td>1.00</td>\n",
       "      <td>1.00</td>\n",
       "      <td>1.000</td>\n",
       "    </tr>\n",
       "    <tr>\n",
       "      <th>Age</th>\n",
       "      <td>30.00</td>\n",
       "      <td>25.000</td>\n",
       "      <td>30.00</td>\n",
       "      <td>15.00</td>\n",
       "      <td>15.000</td>\n",
       "    </tr>\n",
       "    <tr>\n",
       "      <th>Customer Value</th>\n",
       "      <td>197.64</td>\n",
       "      <td>46.035</td>\n",
       "      <td>1536.52</td>\n",
       "      <td>240.02</td>\n",
       "      <td>145.805</td>\n",
       "    </tr>\n",
       "    <tr>\n",
       "      <th>Churn</th>\n",
       "      <td>0.00</td>\n",
       "      <td>0.000</td>\n",
       "      <td>0.00</td>\n",
       "      <td>0.00</td>\n",
       "      <td>0.000</td>\n",
       "    </tr>\n",
       "  </tbody>\n",
       "</table>\n",
       "</div>"
      ],
      "text/plain": [
       "                               0        1        2        3         4\n",
       "Call  Failure               8.00    0.000    10.00    10.00     3.000\n",
       "Complains                   0.00    0.000     0.00     0.00     0.000\n",
       "Subscription  Length       38.00   39.000    37.00    38.00    38.000\n",
       "Charge  Amount              0.00    0.000     0.00     0.00     0.000\n",
       "Seconds of Use           4370.00  318.000  2453.00  4198.00  2393.000\n",
       "Frequency of use           71.00    5.000    60.00    66.00    58.000\n",
       "Frequency of SMS            5.00    7.000   359.00     1.00     2.000\n",
       "Distinct Called Numbers    17.00    4.000    24.00    35.00    33.000\n",
       "Age Group                   3.00    2.000     3.00     1.00     1.000\n",
       "Tariff Plan                 1.00    1.000     1.00     1.00     1.000\n",
       "Status                      1.00    2.000     1.00     1.00     1.000\n",
       "Age                        30.00   25.000    30.00    15.00    15.000\n",
       "Customer Value            197.64   46.035  1536.52   240.02   145.805\n",
       "Churn                       0.00    0.000     0.00     0.00     0.000"
      ]
     },
     "execution_count": 34,
     "metadata": {},
     "output_type": "execute_result"
    }
   ],
   "source": [
    "df.head().T"
   ]
  },
  {
   "cell_type": "code",
   "execution_count": 35,
   "id": "06c34231-5176-4c2d-9060-5b8c3a80eaf3",
   "metadata": {},
   "outputs": [
    {
     "name": "stdout",
     "output_type": "stream",
     "text": [
      "<class 'pandas.core.frame.DataFrame'>\n",
      "RangeIndex: 3150 entries, 0 to 3149\n",
      "Data columns (total 14 columns):\n",
      " #   Column                   Non-Null Count  Dtype  \n",
      "---  ------                   --------------  -----  \n",
      " 0   Call  Failure            3150 non-null   int64  \n",
      " 1   Complains                3150 non-null   int64  \n",
      " 2   Subscription  Length     3150 non-null   int64  \n",
      " 3   Charge  Amount           3150 non-null   int64  \n",
      " 4   Seconds of Use           3150 non-null   int64  \n",
      " 5   Frequency of use         3150 non-null   int64  \n",
      " 6   Frequency of SMS         3150 non-null   int64  \n",
      " 7   Distinct Called Numbers  3150 non-null   int64  \n",
      " 8   Age Group                3150 non-null   int64  \n",
      " 9   Tariff Plan              3150 non-null   int64  \n",
      " 10  Status                   3150 non-null   int64  \n",
      " 11  Age                      3150 non-null   int64  \n",
      " 12  Customer Value           3150 non-null   float64\n",
      " 13  Churn                    3150 non-null   int64  \n",
      "dtypes: float64(1), int64(13)\n",
      "memory usage: 344.7 KB\n"
     ]
    }
   ],
   "source": [
    "df.info()"
   ]
  },
  {
   "cell_type": "code",
   "execution_count": 36,
   "id": "44cff797-38d0-4e97-bd22-26e7e3ce0e0b",
   "metadata": {},
   "outputs": [],
   "source": [
    "df.columns = df.columns.str.lower().str.replace(' ', '_')"
   ]
  },
  {
   "cell_type": "code",
   "execution_count": 37,
   "id": "acee2069-ba60-403b-947a-6a806bb2cc55",
   "metadata": {},
   "outputs": [
    {
     "data": {
      "text/plain": [
       "array([0, 1])"
      ]
     },
     "execution_count": 37,
     "metadata": {},
     "output_type": "execute_result"
    }
   ],
   "source": [
    "df.churn.unique()"
   ]
  },
  {
   "cell_type": "code",
   "execution_count": 38,
   "id": "1ec803fe-4cc7-4c7a-ba02-83ac91ebbb91",
   "metadata": {},
   "outputs": [
    {
     "data": {
      "text/plain": [
       "call__failure              0\n",
       "complains                  0\n",
       "subscription__length       0\n",
       "charge__amount             0\n",
       "seconds_of_use             0\n",
       "frequency_of_use           0\n",
       "frequency_of_sms           0\n",
       "distinct_called_numbers    0\n",
       "age_group                  0\n",
       "tariff_plan                0\n",
       "status                     0\n",
       "age                        0\n",
       "customer_value             0\n",
       "churn                      0\n",
       "dtype: int64"
      ]
     },
     "execution_count": 38,
     "metadata": {},
     "output_type": "execute_result"
    }
   ],
   "source": [
    "df.isnull().sum()"
   ]
  },
  {
   "cell_type": "code",
   "execution_count": 39,
   "id": "6dd39c47-0123-45e1-a06b-df20a25d5510",
   "metadata": {},
   "outputs": [
    {
     "data": {
      "text/plain": [
       "False"
      ]
     },
     "execution_count": 39,
     "metadata": {},
     "output_type": "execute_result"
    }
   ],
   "source": [
    "any(df.dtypes == 'object')"
   ]
  },
  {
   "cell_type": "markdown",
   "id": "15675093-8a09-4013-857b-111f6f11dd45",
   "metadata": {},
   "source": [
    "### Making Train Test Validation sets"
   ]
  },
  {
   "cell_type": "code",
   "execution_count": 40,
   "id": "56ae1753-d0c5-46c3-aefd-610aac5734af",
   "metadata": {},
   "outputs": [],
   "source": [
    "from sklearn.model_selection import train_test_split"
   ]
  },
  {
   "cell_type": "code",
   "execution_count": 41,
   "id": "300db920-221f-4e07-a721-ee310fb80cc7",
   "metadata": {},
   "outputs": [],
   "source": [
    "df_full_train , df_test = train_test_split(df , test_size=.2 , random_state=42)"
   ]
  },
  {
   "cell_type": "code",
   "execution_count": 42,
   "id": "de7f5c76-3128-42c5-878a-3e3d3d0d7901",
   "metadata": {},
   "outputs": [],
   "source": [
    "df_train , df_val = train_test_split(df_full_train , test_size=.25 , random_state=42)"
   ]
  },
  {
   "cell_type": "code",
   "execution_count": 43,
   "id": "6f7a1ea7-31ca-41f7-80d5-940b611fd964",
   "metadata": {},
   "outputs": [
    {
     "data": {
      "text/plain": [
       "(1890, 630, 630)"
      ]
     },
     "execution_count": 43,
     "metadata": {},
     "output_type": "execute_result"
    }
   ],
   "source": [
    "len(df_train), len(df_test) , len(df_val)"
   ]
  },
  {
   "cell_type": "code",
   "execution_count": 44,
   "id": "2b5d6486-70c2-4158-85f7-6f2c6015d785",
   "metadata": {},
   "outputs": [],
   "source": [
    "y_train = df_train.churn.values\n",
    "y_val = df_val.churn.values\n",
    "y_test = df_test.churn.values"
   ]
  },
  {
   "cell_type": "code",
   "execution_count": 45,
   "id": "483ddfd8-f1e1-488e-9881-b72f42a6da14",
   "metadata": {},
   "outputs": [],
   "source": [
    "del df_train['churn']\n",
    "del df_val['churn']\n",
    "del df_test['churn']"
   ]
  },
  {
   "cell_type": "markdown",
   "id": "5fd51f8a-2063-4e8f-96af-b2b885ed7afc",
   "metadata": {},
   "source": [
    "### feature importance "
   ]
  },
  {
   "cell_type": "markdown",
   "id": "c12952ac-ecd1-4199-9ebe-29d22a98b9bd",
   "metadata": {},
   "source": [
    "#### global churn balance "
   ]
  },
  {
   "cell_type": "code",
   "execution_count": 46,
   "id": "578421ee-d7ab-4e3b-90fe-dd47e57657c3",
   "metadata": {},
   "outputs": [
    {
     "data": {
      "text/plain": [
       "0.15"
      ]
     },
     "execution_count": 46,
     "metadata": {},
     "output_type": "execute_result"
    }
   ],
   "source": [
    "# we can use mean() to calculate rate because we just have a 'uniform distribution'.\n",
    "\n",
    "global_churn_rate = df_full_train.churn.mean()\n",
    "round(float(global_churn_rate), 2)"
   ]
  },
  {
   "cell_type": "code",
   "execution_count": 47,
   "id": "575fc83e-f288-4a49-8742-1f1b357b89a9",
   "metadata": {},
   "outputs": [
    {
     "data": {
      "text/plain": [
       "(churn\n",
       " 0    2135\n",
       " 1     385\n",
       " Name: count, dtype: int64,\n",
       " churn\n",
       " 0    0.847222\n",
       " 1    0.152778\n",
       " Name: proportion, dtype: float64)"
      ]
     },
     "execution_count": 47,
     "metadata": {},
     "output_type": "execute_result"
    }
   ],
   "source": [
    "df_full_train.churn.value_counts(), df_full_train.churn.value_counts(normalize=True)"
   ]
  },
  {
   "cell_type": "code",
   "execution_count": 48,
   "id": "26c610c7-f720-4f09-af34-6bdd83a4af76",
   "metadata": {},
   "outputs": [
    {
     "data": {
      "text/plain": [
       "(array([3, 2, 1, 4, 5]), array([30, 25, 15, 45, 55]), array([15]))"
      ]
     },
     "execution_count": 48,
     "metadata": {},
     "output_type": "execute_result"
    }
   ],
   "source": [
    "# we see that features age and age_group are the same \n",
    "df.age_group.unique() , df.age.unique(), df[df.age_group == 1].age.unique()"
   ]
  },
  {
   "cell_type": "markdown",
   "id": "265ace2a-bf5b-4466-9a45-9ad7bd2c868e",
   "metadata": {},
   "source": [
    "#### churn rate in age_group feature"
   ]
  },
  {
   "cell_type": "code",
   "execution_count": 49,
   "id": "9731bee8-2761-4fd8-ab59-f5352b92a775",
   "metadata": {},
   "outputs": [
    {
     "name": "stdout",
     "output_type": "stream",
     "text": [
      "0.04    0.33    0.45    0.13    0.05    "
     ]
    }
   ],
   "source": [
    "for i in sorted(df.age_group.unique()) :\n",
    "    print( round((df.age_group == i ).mean(), 2), '   ', end='' )"
   ]
  },
  {
   "cell_type": "markdown",
   "id": "d8010d5f-4aa3-4f3c-8f2f-eca4e9646023",
   "metadata": {
    "jp-MarkdownHeadingCollapsed": true
   },
   "source": [
    "#### unique number of each feature"
   ]
  },
  {
   "cell_type": "code",
   "execution_count": 50,
   "id": "195f8563-2953-4ceb-9c7d-e4e62ce158fa",
   "metadata": {},
   "outputs": [
    {
     "name": "stdout",
     "output_type": "stream",
     "text": [
      "call__failure: 37     complains: 2     subscription__length: 45     charge__amount: 11     seconds_of_use: 1756     frequency_of_use: 242     frequency_of_sms: 405     distinct_called_numbers: 92     age_group: 5     tariff_plan: 2     status: 2     age: 5     customer_value: 2654     churn: 2     "
     ]
    }
   ],
   "source": [
    "for col in df.columns:\n",
    "    print('{}: {}  {}'.format(col , df[col].nunique(), '   '), end='')"
   ]
  },
  {
   "cell_type": "code",
   "execution_count": 51,
   "id": "e140fcad-b065-4de2-a9d1-41529d8297f1",
   "metadata": {},
   "outputs": [
    {
     "data": {
      "text/plain": [
       "churn\n",
       "0    0.83167\n",
       "1    0.16833\n",
       "Name: proportion, dtype: float64"
      ]
     },
     "execution_count": 51,
     "metadata": {},
     "output_type": "execute_result"
    }
   ],
   "source": [
    "# churn rate in tariff_plan feature\n",
    "df[df.tariff_plan == 1].churn.value_counts(normalize=True)"
   ]
  },
  {
   "cell_type": "markdown",
   "id": "3d1fd38e-d0ed-4bbe-ab5a-6c428ad923ae",
   "metadata": {
    "jp-MarkdownHeadingCollapsed": true
   },
   "source": [
    "#### features with unique nuber less than 5"
   ]
  },
  {
   "cell_type": "code",
   "execution_count": 52,
   "id": "34626157-2e59-4fb5-b702-17dc45957539",
   "metadata": {},
   "outputs": [
    {
     "data": {
      "text/plain": [
       "['complains', 'age_group', 'tariff_plan', 'status', 'age', 'churn']"
      ]
     },
     "execution_count": 52,
     "metadata": {},
     "output_type": "execute_result"
    }
   ],
   "source": [
    "categorical = list(df.columns[df.nunique() <= 5])\n",
    "categorical"
   ]
  },
  {
   "cell_type": "code",
   "execution_count": 53,
   "id": "0537ae6b-3e76-41b7-a2b3-f0fdfcf9fb0c",
   "metadata": {},
   "outputs": [
    {
     "data": {
      "text/html": [
       "<div>\n",
       "<style scoped>\n",
       "    .dataframe tbody tr th:only-of-type {\n",
       "        vertical-align: middle;\n",
       "    }\n",
       "\n",
       "    .dataframe tbody tr th {\n",
       "        vertical-align: top;\n",
       "    }\n",
       "\n",
       "    .dataframe thead th {\n",
       "        text-align: right;\n",
       "    }\n",
       "</style>\n",
       "<table border=\"1\" class=\"dataframe\">\n",
       "  <thead>\n",
       "    <tr style=\"text-align: right;\">\n",
       "      <th></th>\n",
       "      <th>mean</th>\n",
       "      <th>count</th>\n",
       "      <th>diff</th>\n",
       "      <th>risk</th>\n",
       "    </tr>\n",
       "    <tr>\n",
       "      <th>age</th>\n",
       "      <th></th>\n",
       "      <th></th>\n",
       "      <th></th>\n",
       "      <th></th>\n",
       "    </tr>\n",
       "  </thead>\n",
       "  <tbody>\n",
       "    <tr>\n",
       "      <th>15</th>\n",
       "      <td>0.000000</td>\n",
       "      <td>123</td>\n",
       "      <td>-0.152778</td>\n",
       "      <td>0.000000</td>\n",
       "    </tr>\n",
       "    <tr>\n",
       "      <th>25</th>\n",
       "      <td>0.177435</td>\n",
       "      <td>1037</td>\n",
       "      <td>0.024657</td>\n",
       "      <td>1.161392</td>\n",
       "    </tr>\n",
       "    <tr>\n",
       "      <th>30</th>\n",
       "      <td>0.161404</td>\n",
       "      <td>1425</td>\n",
       "      <td>0.008626</td>\n",
       "      <td>1.056459</td>\n",
       "    </tr>\n",
       "    <tr>\n",
       "      <th>45</th>\n",
       "      <td>0.200000</td>\n",
       "      <td>395</td>\n",
       "      <td>0.047222</td>\n",
       "      <td>1.309091</td>\n",
       "    </tr>\n",
       "    <tr>\n",
       "      <th>55</th>\n",
       "      <td>0.011765</td>\n",
       "      <td>170</td>\n",
       "      <td>-0.141013</td>\n",
       "      <td>0.077005</td>\n",
       "    </tr>\n",
       "  </tbody>\n",
       "</table>\n",
       "</div>"
      ],
      "text/plain": [
       "         mean  count      diff      risk\n",
       "age                                     \n",
       "15   0.000000    123 -0.152778  0.000000\n",
       "25   0.177435   1037  0.024657  1.161392\n",
       "30   0.161404   1425  0.008626  1.056459\n",
       "45   0.200000    395  0.047222  1.309091\n",
       "55   0.011765    170 -0.141013  0.077005"
      ]
     },
     "execution_count": 53,
     "metadata": {},
     "output_type": "execute_result"
    }
   ],
   "source": [
    "df_group = df[categorical] .groupby('age').churn.agg(['mean', 'count'])\n",
    "df_group['diff'] = df_group['mean'] - global_churn_rate\n",
    "df_group['risk'] = df_group['mean'] / global_churn_rate\n",
    "df_group"
   ]
  },
  {
   "cell_type": "code",
   "execution_count": 54,
   "id": "58efb6f6-5b3d-4162-bcfc-584dd4b0dea0",
   "metadata": {},
   "outputs": [],
   "source": [
    "from IPython.display import display"
   ]
  },
  {
   "cell_type": "code",
   "execution_count": 55,
   "id": "039fd617-299c-491e-a9b6-b19be280ec47",
   "metadata": {},
   "outputs": [
    {
     "data": {
      "text/html": [
       "<div>\n",
       "<style scoped>\n",
       "    .dataframe tbody tr th:only-of-type {\n",
       "        vertical-align: middle;\n",
       "    }\n",
       "\n",
       "    .dataframe tbody tr th {\n",
       "        vertical-align: top;\n",
       "    }\n",
       "\n",
       "    .dataframe thead th {\n",
       "        text-align: right;\n",
       "    }\n",
       "</style>\n",
       "<table border=\"1\" class=\"dataframe\">\n",
       "  <thead>\n",
       "    <tr style=\"text-align: right;\">\n",
       "      <th></th>\n",
       "      <th>mean</th>\n",
       "      <th>count</th>\n",
       "      <th>diff</th>\n",
       "      <th>risk</th>\n",
       "    </tr>\n",
       "    <tr>\n",
       "      <th>complains</th>\n",
       "      <th></th>\n",
       "      <th></th>\n",
       "      <th></th>\n",
       "      <th></th>\n",
       "    </tr>\n",
       "  </thead>\n",
       "  <tbody>\n",
       "    <tr>\n",
       "      <th>0</th>\n",
       "      <td>0.101409</td>\n",
       "      <td>2909</td>\n",
       "      <td>-0.051368</td>\n",
       "      <td>0.663771</td>\n",
       "    </tr>\n",
       "    <tr>\n",
       "      <th>1</th>\n",
       "      <td>0.829876</td>\n",
       "      <td>241</td>\n",
       "      <td>0.677098</td>\n",
       "      <td>5.431912</td>\n",
       "    </tr>\n",
       "  </tbody>\n",
       "</table>\n",
       "</div>"
      ],
      "text/plain": [
       "               mean  count      diff      risk\n",
       "complains                                     \n",
       "0          0.101409   2909 -0.051368  0.663771\n",
       "1          0.829876    241  0.677098  5.431912"
      ]
     },
     "metadata": {},
     "output_type": "display_data"
    },
    {
     "data": {
      "text/html": [
       "<div>\n",
       "<style scoped>\n",
       "    .dataframe tbody tr th:only-of-type {\n",
       "        vertical-align: middle;\n",
       "    }\n",
       "\n",
       "    .dataframe tbody tr th {\n",
       "        vertical-align: top;\n",
       "    }\n",
       "\n",
       "    .dataframe thead th {\n",
       "        text-align: right;\n",
       "    }\n",
       "</style>\n",
       "<table border=\"1\" class=\"dataframe\">\n",
       "  <thead>\n",
       "    <tr style=\"text-align: right;\">\n",
       "      <th></th>\n",
       "      <th>mean</th>\n",
       "      <th>count</th>\n",
       "      <th>diff</th>\n",
       "      <th>risk</th>\n",
       "    </tr>\n",
       "    <tr>\n",
       "      <th>age_group</th>\n",
       "      <th></th>\n",
       "      <th></th>\n",
       "      <th></th>\n",
       "      <th></th>\n",
       "    </tr>\n",
       "  </thead>\n",
       "  <tbody>\n",
       "    <tr>\n",
       "      <th>1</th>\n",
       "      <td>0.000000</td>\n",
       "      <td>123</td>\n",
       "      <td>-0.152778</td>\n",
       "      <td>0.000000</td>\n",
       "    </tr>\n",
       "    <tr>\n",
       "      <th>2</th>\n",
       "      <td>0.177435</td>\n",
       "      <td>1037</td>\n",
       "      <td>0.024657</td>\n",
       "      <td>1.161392</td>\n",
       "    </tr>\n",
       "    <tr>\n",
       "      <th>3</th>\n",
       "      <td>0.161404</td>\n",
       "      <td>1425</td>\n",
       "      <td>0.008626</td>\n",
       "      <td>1.056459</td>\n",
       "    </tr>\n",
       "    <tr>\n",
       "      <th>4</th>\n",
       "      <td>0.200000</td>\n",
       "      <td>395</td>\n",
       "      <td>0.047222</td>\n",
       "      <td>1.309091</td>\n",
       "    </tr>\n",
       "    <tr>\n",
       "      <th>5</th>\n",
       "      <td>0.011765</td>\n",
       "      <td>170</td>\n",
       "      <td>-0.141013</td>\n",
       "      <td>0.077005</td>\n",
       "    </tr>\n",
       "  </tbody>\n",
       "</table>\n",
       "</div>"
      ],
      "text/plain": [
       "               mean  count      diff      risk\n",
       "age_group                                     \n",
       "1          0.000000    123 -0.152778  0.000000\n",
       "2          0.177435   1037  0.024657  1.161392\n",
       "3          0.161404   1425  0.008626  1.056459\n",
       "4          0.200000    395  0.047222  1.309091\n",
       "5          0.011765    170 -0.141013  0.077005"
      ]
     },
     "metadata": {},
     "output_type": "display_data"
    },
    {
     "data": {
      "text/html": [
       "<div>\n",
       "<style scoped>\n",
       "    .dataframe tbody tr th:only-of-type {\n",
       "        vertical-align: middle;\n",
       "    }\n",
       "\n",
       "    .dataframe tbody tr th {\n",
       "        vertical-align: top;\n",
       "    }\n",
       "\n",
       "    .dataframe thead th {\n",
       "        text-align: right;\n",
       "    }\n",
       "</style>\n",
       "<table border=\"1\" class=\"dataframe\">\n",
       "  <thead>\n",
       "    <tr style=\"text-align: right;\">\n",
       "      <th></th>\n",
       "      <th>mean</th>\n",
       "      <th>count</th>\n",
       "      <th>diff</th>\n",
       "      <th>risk</th>\n",
       "    </tr>\n",
       "    <tr>\n",
       "      <th>tariff_plan</th>\n",
       "      <th></th>\n",
       "      <th></th>\n",
       "      <th></th>\n",
       "      <th></th>\n",
       "    </tr>\n",
       "  </thead>\n",
       "  <tbody>\n",
       "    <tr>\n",
       "      <th>1</th>\n",
       "      <td>0.16833</td>\n",
       "      <td>2905</td>\n",
       "      <td>0.015553</td>\n",
       "      <td>1.101799</td>\n",
       "    </tr>\n",
       "    <tr>\n",
       "      <th>2</th>\n",
       "      <td>0.02449</td>\n",
       "      <td>245</td>\n",
       "      <td>-0.128288</td>\n",
       "      <td>0.160297</td>\n",
       "    </tr>\n",
       "  </tbody>\n",
       "</table>\n",
       "</div>"
      ],
      "text/plain": [
       "                mean  count      diff      risk\n",
       "tariff_plan                                    \n",
       "1            0.16833   2905  0.015553  1.101799\n",
       "2            0.02449    245 -0.128288  0.160297"
      ]
     },
     "metadata": {},
     "output_type": "display_data"
    },
    {
     "data": {
      "text/html": [
       "<div>\n",
       "<style scoped>\n",
       "    .dataframe tbody tr th:only-of-type {\n",
       "        vertical-align: middle;\n",
       "    }\n",
       "\n",
       "    .dataframe tbody tr th {\n",
       "        vertical-align: top;\n",
       "    }\n",
       "\n",
       "    .dataframe thead th {\n",
       "        text-align: right;\n",
       "    }\n",
       "</style>\n",
       "<table border=\"1\" class=\"dataframe\">\n",
       "  <thead>\n",
       "    <tr style=\"text-align: right;\">\n",
       "      <th></th>\n",
       "      <th>mean</th>\n",
       "      <th>count</th>\n",
       "      <th>diff</th>\n",
       "      <th>risk</th>\n",
       "    </tr>\n",
       "    <tr>\n",
       "      <th>status</th>\n",
       "      <th></th>\n",
       "      <th></th>\n",
       "      <th></th>\n",
       "      <th></th>\n",
       "    </tr>\n",
       "  </thead>\n",
       "  <tbody>\n",
       "    <tr>\n",
       "      <th>1</th>\n",
       "      <td>0.052787</td>\n",
       "      <td>2368</td>\n",
       "      <td>-0.099991</td>\n",
       "      <td>0.345516</td>\n",
       "    </tr>\n",
       "    <tr>\n",
       "      <th>2</th>\n",
       "      <td>0.473146</td>\n",
       "      <td>782</td>\n",
       "      <td>0.320368</td>\n",
       "      <td>3.096954</td>\n",
       "    </tr>\n",
       "  </tbody>\n",
       "</table>\n",
       "</div>"
      ],
      "text/plain": [
       "            mean  count      diff      risk\n",
       "status                                     \n",
       "1       0.052787   2368 -0.099991  0.345516\n",
       "2       0.473146    782  0.320368  3.096954"
      ]
     },
     "metadata": {},
     "output_type": "display_data"
    },
    {
     "data": {
      "text/html": [
       "<div>\n",
       "<style scoped>\n",
       "    .dataframe tbody tr th:only-of-type {\n",
       "        vertical-align: middle;\n",
       "    }\n",
       "\n",
       "    .dataframe tbody tr th {\n",
       "        vertical-align: top;\n",
       "    }\n",
       "\n",
       "    .dataframe thead th {\n",
       "        text-align: right;\n",
       "    }\n",
       "</style>\n",
       "<table border=\"1\" class=\"dataframe\">\n",
       "  <thead>\n",
       "    <tr style=\"text-align: right;\">\n",
       "      <th></th>\n",
       "      <th>mean</th>\n",
       "      <th>count</th>\n",
       "      <th>diff</th>\n",
       "      <th>risk</th>\n",
       "    </tr>\n",
       "    <tr>\n",
       "      <th>age</th>\n",
       "      <th></th>\n",
       "      <th></th>\n",
       "      <th></th>\n",
       "      <th></th>\n",
       "    </tr>\n",
       "  </thead>\n",
       "  <tbody>\n",
       "    <tr>\n",
       "      <th>15</th>\n",
       "      <td>0.000000</td>\n",
       "      <td>123</td>\n",
       "      <td>-0.152778</td>\n",
       "      <td>0.000000</td>\n",
       "    </tr>\n",
       "    <tr>\n",
       "      <th>25</th>\n",
       "      <td>0.177435</td>\n",
       "      <td>1037</td>\n",
       "      <td>0.024657</td>\n",
       "      <td>1.161392</td>\n",
       "    </tr>\n",
       "    <tr>\n",
       "      <th>30</th>\n",
       "      <td>0.161404</td>\n",
       "      <td>1425</td>\n",
       "      <td>0.008626</td>\n",
       "      <td>1.056459</td>\n",
       "    </tr>\n",
       "    <tr>\n",
       "      <th>45</th>\n",
       "      <td>0.200000</td>\n",
       "      <td>395</td>\n",
       "      <td>0.047222</td>\n",
       "      <td>1.309091</td>\n",
       "    </tr>\n",
       "    <tr>\n",
       "      <th>55</th>\n",
       "      <td>0.011765</td>\n",
       "      <td>170</td>\n",
       "      <td>-0.141013</td>\n",
       "      <td>0.077005</td>\n",
       "    </tr>\n",
       "  </tbody>\n",
       "</table>\n",
       "</div>"
      ],
      "text/plain": [
       "         mean  count      diff      risk\n",
       "age                                     \n",
       "15   0.000000    123 -0.152778  0.000000\n",
       "25   0.177435   1037  0.024657  1.161392\n",
       "30   0.161404   1425  0.008626  1.056459\n",
       "45   0.200000    395  0.047222  1.309091\n",
       "55   0.011765    170 -0.141013  0.077005"
      ]
     },
     "metadata": {},
     "output_type": "display_data"
    }
   ],
   "source": [
    "for c in categorical[:-1]:\n",
    "    df_group = df[categorical] .groupby(c).churn.agg(['mean', 'count'])\n",
    "    df_group['diff'] = df_group['mean'] - global_churn_rate\n",
    "    df_group['risk'] = df_group['mean'] / global_churn_rate\n",
    "    display(df_group)"
   ]
  },
  {
   "cell_type": "markdown",
   "id": "c01556be-5f1e-43ba-887d-b73c17de0db9",
   "metadata": {},
   "source": [
    "#### Mutual information"
   ]
  },
  {
   "cell_type": "code",
   "execution_count": 56,
   "id": "f352a576-a663-4ccf-b798-b761c98e6bb7",
   "metadata": {},
   "outputs": [],
   "source": [
    "from sklearn.metrics import mutual_info_score"
   ]
  },
  {
   "cell_type": "code",
   "execution_count": 57,
   "id": "7674eee3-843d-4279-ac5d-59e490b817b4",
   "metadata": {},
   "outputs": [
    {
     "data": {
      "text/plain": [
       "np.float64(0.014855083333204759)"
      ]
     },
     "execution_count": 57,
     "metadata": {},
     "output_type": "execute_result"
    }
   ],
   "source": [
    "mutual_info_score(df.churn, df.age)"
   ]
  },
  {
   "cell_type": "markdown",
   "id": "a6955eb5-2a33-4a27-9eae-c0285e05328e",
   "metadata": {},
   "source": [
    "##### 🥵 complicated mind of **me** versus simple and fluent logic of **@alexeygrigorev**"
   ]
  },
  {
   "cell_type": "code",
   "execution_count": 58,
   "id": "0deaf4a4-abc5-4754-bda2-884226ac31a6",
   "metadata": {},
   "outputs": [
    {
     "name": "stderr",
     "output_type": "stream",
     "text": [
      "/home/udi/miniconda3/envs/ml-zoomcamp/lib/python3.11/site-packages/sklearn/metrics/cluster/_supervised.py:66: UserWarning: Clustering metrics expects discrete values but received binary values for label, and continuous values for target\n",
      "  warnings.warn(msg, UserWarning)\n"
     ]
    },
    {
     "data": {
      "text/html": [
       "<div>\n",
       "<style scoped>\n",
       "    .dataframe tbody tr th:only-of-type {\n",
       "        vertical-align: middle;\n",
       "    }\n",
       "\n",
       "    .dataframe tbody tr th {\n",
       "        vertical-align: top;\n",
       "    }\n",
       "\n",
       "    .dataframe thead th {\n",
       "        text-align: right;\n",
       "    }\n",
       "</style>\n",
       "<table border=\"1\" class=\"dataframe\">\n",
       "  <thead>\n",
       "    <tr style=\"text-align: right;\">\n",
       "      <th></th>\n",
       "      <th>Mutual info</th>\n",
       "    </tr>\n",
       "  </thead>\n",
       "  <tbody>\n",
       "    <tr>\n",
       "      <th>call__failure</th>\n",
       "      <td>0.006</td>\n",
       "    </tr>\n",
       "    <tr>\n",
       "      <th>complains</th>\n",
       "      <td>0.097</td>\n",
       "    </tr>\n",
       "    <tr>\n",
       "      <th>subscription__length</th>\n",
       "      <td>0.031</td>\n",
       "    </tr>\n",
       "    <tr>\n",
       "      <th>charge__amount</th>\n",
       "      <td>0.038</td>\n",
       "    </tr>\n",
       "    <tr>\n",
       "      <th>seconds_of_use</th>\n",
       "      <td>0.312</td>\n",
       "    </tr>\n",
       "    <tr>\n",
       "      <th>frequency_of_use</th>\n",
       "      <td>0.112</td>\n",
       "    </tr>\n",
       "    <tr>\n",
       "      <th>frequency_of_sms</th>\n",
       "      <td>0.068</td>\n",
       "    </tr>\n",
       "    <tr>\n",
       "      <th>distinct_called_numbers</th>\n",
       "      <td>0.064</td>\n",
       "    </tr>\n",
       "    <tr>\n",
       "      <th>age_group</th>\n",
       "      <td>0.015</td>\n",
       "    </tr>\n",
       "    <tr>\n",
       "      <th>tariff_plan</th>\n",
       "      <td>0.008</td>\n",
       "    </tr>\n",
       "    <tr>\n",
       "      <th>status</th>\n",
       "      <td>0.108</td>\n",
       "    </tr>\n",
       "    <tr>\n",
       "      <th>age</th>\n",
       "      <td>0.015</td>\n",
       "    </tr>\n",
       "    <tr>\n",
       "      <th>customer_value</th>\n",
       "      <td>0.385</td>\n",
       "    </tr>\n",
       "  </tbody>\n",
       "</table>\n",
       "</div>"
      ],
      "text/plain": [
       "                         Mutual info\n",
       "call__failure                  0.006\n",
       "complains                      0.097\n",
       "subscription__length           0.031\n",
       "charge__amount                 0.038\n",
       "seconds_of_use                 0.312\n",
       "frequency_of_use               0.112\n",
       "frequency_of_sms               0.068\n",
       "distinct_called_numbers        0.064\n",
       "age_group                      0.015\n",
       "tariff_plan                    0.008\n",
       "status                         0.108\n",
       "age                            0.015\n",
       "customer_value                 0.385"
      ]
     },
     "execution_count": 58,
     "metadata": {},
     "output_type": "execute_result"
    }
   ],
   "source": [
    "pd.DataFrame( \n",
    "    index= list(df.columns[:-1]) ,\n",
    "    columns= ['Mutual info'],\n",
    "    data= [ round(mutual_info_score(df.churn, df[col]), 3) for col in list(df.columns[:-1]) ]\n",
    ")"
   ]
  },
  {
   "cell_type": "markdown",
   "id": "a7774003-3d6e-4ccd-b499-eab29e534bc0",
   "metadata": {},
   "source": [
    "##### simple 😂 with **@alexeygrigorev**"
   ]
  },
  {
   "cell_type": "code",
   "execution_count": 59,
   "id": "83970796-9843-46a5-b720-f0388aa00543",
   "metadata": {},
   "outputs": [
    {
     "name": "stderr",
     "output_type": "stream",
     "text": [
      "/home/udi/miniconda3/envs/ml-zoomcamp/lib/python3.11/site-packages/sklearn/metrics/cluster/_supervised.py:66: UserWarning: Clustering metrics expects discrete values but received continuous values for label, and binary values for target\n",
      "  warnings.warn(msg, UserWarning)\n"
     ]
    },
    {
     "data": {
      "text/plain": [
       "customer_value             0.385433\n",
       "seconds_of_use             0.312075\n",
       "frequency_of_use           0.111863\n",
       "status                     0.107841\n",
       "complains                  0.096946\n",
       "frequency_of_sms           0.067977\n",
       "distinct_called_numbers    0.063743\n",
       "charge__amount             0.038135\n",
       "subscription__length       0.031406\n",
       "age                        0.014855\n",
       "age_group                  0.014855\n",
       "tariff_plan                0.007977\n",
       "call__failure              0.005920\n",
       "dtype: float64"
      ]
     },
     "execution_count": 59,
     "metadata": {},
     "output_type": "execute_result"
    }
   ],
   "source": [
    "def mutual_info_churn_score(series):\n",
    "    return mutual_info_score(series , df.churn)\n",
    "    \n",
    "df[df.columns[:-1]].apply(mutual_info_churn_score).sort_values(ascending=False)"
   ]
  },
  {
   "cell_type": "markdown",
   "id": "1c6ea2ec-cada-410f-9952-ab29389b17a1",
   "metadata": {},
   "source": [
    "##### Correlations heatmap"
   ]
  },
  {
   "cell_type": "code",
   "execution_count": 73,
   "id": "fa2f5b4e-6291-4f40-b969-6d6b03ec6556",
   "metadata": {},
   "outputs": [
    {
     "data": {
      "text/plain": [
       "<Axes: >"
      ]
     },
     "execution_count": 73,
     "metadata": {},
     "output_type": "execute_result"
    },
    {
     "data": {
      "image/png": "[encoded data removed]",
      "text/plain": [
       "<Figure size 1500x900 with 2 Axes>"
      ]
     },
     "metadata": {},
     "output_type": "display_data"
    }
   ],
   "source": [
    "plt.figure(figsize=(15,9))\n",
    "sns.heatmap(df.corr(), annot=True)"
   ]
  },
  {
   "cell_type": "markdown",
   "id": "d40cda6d-7271-431b-8578-8e06cc7fddb0",
   "metadata": {},
   "source": [
    "## One-hot encoding "
   ]
  },
  {
   "cell_type": "markdown",
   "id": "1bb6ccb6-e6a5-46cd-9194-6aab328f8395",
   "metadata": {},
   "source": [
    "### sklearn Dictionary Vectorizer"
   ]
  },
  {
   "cell_type": "code",
   "execution_count": 84,
   "id": "d90b3154-2ffe-4f03-ab6a-8a6239f31ad7",
   "metadata": {},
   "outputs": [],
   "source": [
    "from sklearn.feature_extraction import DictVectorizer"
   ]
  },
  {
   "cell_type": "code",
   "execution_count": 90,
   "id": "513bf928-9422-42ef-a9c6-c353ac287696",
   "metadata": {},
   "outputs": [],
   "source": [
    "dv = DictVectorizer( sparse=False )"
   ]
  },
  {
   "cell_type": "code",
   "execution_count": 97,
   "id": "52911002-01fc-434c-8913-f9365023d60c",
   "metadata": {},
   "outputs": [],
   "source": [
    "train_dict = df_train.to_dict( orient='records' )"
   ]
  },
  {
   "cell_type": "code",
   "execution_count": 126,
   "id": "72e7d838-1e94-489a-a0c8-4c09d11b0c9a",
   "metadata": {},
   "outputs": [],
   "source": [
    "X_train = dv.fit_transform( train_dict )"
   ]
  },
  {
   "cell_type": "code",
   "execution_count": 127,
   "id": "900b5b94-8f00-49e3-9006-4513bfe6a0c9",
   "metadata": {},
   "outputs": [
    {
     "data": {
      "text/plain": [
       "array(['age', 'age_group', 'call__failure', 'charge__amount', 'complains',\n",
       "       'customer_value', 'distinct_called_numbers', 'frequency_of_sms',\n",
       "       'frequency_of_use', 'seconds_of_use', 'status',\n",
       "       'subscription__length', 'tariff_plan'], dtype=object)"
      ]
     },
     "execution_count": 127,
     "metadata": {},
     "output_type": "execute_result"
    }
   ],
   "source": [
    "dv.get_feature_names_out()"
   ]
  },
  {
   "cell_type": "code",
   "execution_count": 129,
   "id": "603d65bd-47fe-4d0e-9192-b4214cec6944",
   "metadata": {},
   "outputs": [
    {
     "data": {
      "text/plain": [
       "(1890, 13)"
      ]
     },
     "execution_count": 129,
     "metadata": {},
     "output_type": "execute_result"
    }
   ],
   "source": [
    "X_train.shape"
   ]
  },
  {
   "cell_type": "markdown",
   "id": "85a49642-4949-4e8f-8628-8bc0f0d3a6ad",
   "metadata": {},
   "source": [
    "#### turning numerical variable to categorical"
   ]
  },
  {
   "cell_type": "code",
   "execution_count": 160,
   "id": "ce81c3fd-2402-4b10-a4f3-7459c0568cc2",
   "metadata": {},
   "outputs": [],
   "source": [
    "df_full_train[ categorical ] = df_full_train[ categorical ].astype('object')"
   ]
  },
  {
   "cell_type": "code",
   "execution_count": 164,
   "id": "dd7cddba-2b7d-408e-8095-3677f09a2d03",
   "metadata": {},
   "outputs": [],
   "source": [
    "train_dict = df_full_train.to_dict( orient='records' )"
   ]
  },
  {
   "cell_type": "code",
   "execution_count": 165,
   "id": "49f573a7-eb60-4c75-afbb-51426ac17cdd",
   "metadata": {},
   "outputs": [],
   "source": [
    "X_train = dv.fit_transform( train_dict )"
   ]
  },
  {
   "cell_type": "code",
   "execution_count": 166,
   "id": "1c9136e4-1f6e-4f85-a6f4-1d3a69463a67",
   "metadata": {},
   "outputs": [
    {
     "data": {
      "text/plain": [
       "array(['age', 'age_group', 'call__failure', 'charge__amount', 'churn',\n",
       "       'complains', 'customer_value', 'distinct_called_numbers',\n",
       "       'frequency_of_sms', 'frequency_of_use', 'seconds_of_use', 'status',\n",
       "       'subscription__length', 'tariff_plan'], dtype=object)"
      ]
     },
     "execution_count": 166,
     "metadata": {},
     "output_type": "execute_result"
    }
   ],
   "source": [
    "dv.get_feature_names_out()"
   ]
  },
  {
   "cell_type": "code",
   "execution_count": null,
   "id": "fd82dd20-6eab-4074-b39a-9f1c30fceab2",
   "metadata": {},
   "outputs": [],
   "source": []
  }
 ],
 "metadata": {
  "kernelspec": {
   "display_name": "Python 3 (ipykernel)",
   "language": "python",
   "name": "python3"
  },
  "language_info": {
   "codemirror_mode": {
    "name": "ipython",
    "version": 3
   },
   "file_extension": ".py",
   "mimetype": "text/x-python",
   "name": "python",
   "nbconvert_exporter": "python",
   "pygments_lexer": "ipython3",
   "version": "3.11.10"
  }
 },
 "nbformat": 4,
 "nbformat_minor": 5
}
