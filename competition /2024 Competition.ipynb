{
 "cells": [
  {
   "cell_type": "markdown",
   "id": "d81502c6-23ce-4f1c-917b-f92f7d88598c",
   "metadata": {},
   "source": [
    "# ML Zoomcamp 2024 Competition"
   ]
  },
  {
   "cell_type": "markdown",
   "id": "e1b9b911-d1e7-4ca4-9f07-49760fc2e909",
   "metadata": {},
   "source": [
    "## Overview\n",
    "\n",
    "Welcome to the Retail Demand Forecasting Challenge! This competition challenges participants to forecast customer demand based on historical sales and related data from a retailer.\n",
    "\n",
    "You will use the provided dataset with 25 months of sales data from four stores and predict the demand for products in the next month. You can find more details about the dataset here.\n",
    "https://www.kaggle.com/competitions/ml-zoomcamp-2024-competition/data\n",
    "\n",
    "## Description\n",
    "Competition Objective\n",
    "The goal of this competition is to develop a model that predicts customer demand for a given set of products across multiple stores. Your predictions will help optimize stock management and reduce operational inefficiencies.\n",
    "\n",
    "## Dataset Description\n",
    "The dataset consists of sales information, price changes, promotions, markdowns, and product catalog details.\n",
    "\n",
    "You can find more details about the dataset here.\n",
    "https://www.kaggle.com/competitions/ml-zoomcamp-2024-competition/data\n",
    "\n",
    "## Evaluation\n",
    "The competition uses Root Mean Squared Error (RMSE) as the evaluation metric."
   ]
  },
  {
   "cell_type": "markdown",
   "id": "c44d272c-20d3-4c4a-a7bf-13bb46e7a872",
   "metadata": {},
   "source": [
    "# Loading Data"
   ]
  },
  {
   "cell_type": "code",
   "execution_count": null,
   "id": "82ab83a6-3df0-4d4c-b328-365f34c68da6",
   "metadata": {},
   "outputs": [],
   "source": []
  }
 ],
 "metadata": {
  "kernelspec": {
   "display_name": "Python 3 (ipykernel)",
   "language": "python",
   "name": "python3"
  },
  "language_info": {
   "codemirror_mode": {
    "name": "ipython",
    "version": 3
   },
   "file_extension": ".py",
   "mimetype": "text/x-python",
   "name": "python",
   "nbconvert_exporter": "python",
   "pygments_lexer": "ipython3",
   "version": "3.12.1"
  }
 },
 "nbformat": 4,
 "nbformat_minor": 5
}
