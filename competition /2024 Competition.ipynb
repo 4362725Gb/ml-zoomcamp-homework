{
  "cells": [
    {
      "cell_type": "markdown",
      "id": "d81502c6-23ce-4f1c-917b-f92f7d88598c",
      "metadata": {
        "id": "d81502c6-23ce-4f1c-917b-f92f7d88598c"
      },
      "source": [
        "# ML Zoomcamp 2024 Competition"
      ]
    },
    {
      "cell_type": "markdown",
      "id": "e1b9b911-d1e7-4ca4-9f07-49760fc2e909",
      "metadata": {
        "id": "e1b9b911-d1e7-4ca4-9f07-49760fc2e909"
      },
      "source": [
        "## Overview\n",
        "\n",
        "Welcome to the Retail Demand Forecasting Challenge! This competition challenges participants to forecast customer demand based on historical sales and related data from a retailer.\n",
        "\n",
        "You will use the provided dataset with 25 months of sales data from four stores and predict the demand for products in the next month. You can find more details about the dataset here.\n",
        "https://www.kaggle.com/competitions/ml-zoomcamp-2024-competition/data\n",
        "\n",
        "## Description\n",
        "Competition Objective\n",
        "The goal of this competition is to develop a model that predicts customer demand for a given set of products across multiple stores. Your predictions will help optimize stock management and reduce operational inefficiencies.\n",
        "\n",
        "## Dataset Description\n",
        "The dataset consists of sales information, price changes, promotions, markdowns, and product catalog details.\n",
        "\n",
        "You can find more details about the dataset here.\n",
        "https://www.kaggle.com/competitions/ml-zoomcamp-2024-competition/data\n",
        "\n",
        "## Evaluation\n",
        "The competition uses Root Mean Squared Error (RMSE) as the evaluation metric."
      ]
    },
    {
      "cell_type": "markdown",
      "id": "c44d272c-20d3-4c4a-a7bf-13bb46e7a872",
      "metadata": {
        "id": "c44d272c-20d3-4c4a-a7bf-13bb46e7a872"
      },
      "source": [
        "# Loading Data"
      ]
    },
    {
      "cell_type": "code",
      "execution_count": 1,
      "id": "82ab83a6-3df0-4d4c-b328-365f34c68da6",
      "metadata": {
        "collapsed": true,
        "id": "82ab83a6-3df0-4d4c-b328-365f34c68da6",
        "outputId": "4d7f2b9e-8244-461f-8f48-b89eead43a20",
        "colab": {
          "base_uri": "https://localhost:8080/"
        }
      },
      "outputs": [
        {
          "output_type": "stream",
          "name": "stdout",
          "text": [
            "Collecting kaggle==1.5.12\n",
            "  Downloading kaggle-1.5.12.tar.gz (58 kB)\n",
            "\u001b[?25l     \u001b[90m━━━━━━━━━━━━━━━━━━━━━━━━━━━━━━━━━━━━━━━━\u001b[0m \u001b[32m0.0/59.0 kB\u001b[0m \u001b[31m?\u001b[0m eta \u001b[36m-:--:--\u001b[0m\r\u001b[2K     \u001b[90m━━━━━━━━━━━━━━━━━━━━━━━━━━━━━━━━━━━━━━━━\u001b[0m \u001b[32m59.0/59.0 kB\u001b[0m \u001b[31m2.2 MB/s\u001b[0m eta \u001b[36m0:00:00\u001b[0m\n",
            "\u001b[?25h  Preparing metadata (setup.py) ... \u001b[?25l\u001b[?25hdone\n",
            "Requirement already satisfied: six>=1.10 in /usr/local/lib/python3.10/dist-packages (from kaggle==1.5.12) (1.17.0)\n",
            "Requirement already satisfied: certifi in /usr/local/lib/python3.10/dist-packages (from kaggle==1.5.12) (2024.8.30)\n",
            "Requirement already satisfied: python-dateutil in /usr/local/lib/python3.10/dist-packages (from kaggle==1.5.12) (2.8.2)\n",
            "Requirement already satisfied: requests in /usr/local/lib/python3.10/dist-packages (from kaggle==1.5.12) (2.32.3)\n",
            "Requirement already satisfied: tqdm in /usr/local/lib/python3.10/dist-packages (from kaggle==1.5.12) (4.66.6)\n",
            "Requirement already satisfied: python-slugify in /usr/local/lib/python3.10/dist-packages (from kaggle==1.5.12) (8.0.4)\n",
            "Requirement already satisfied: urllib3 in /usr/local/lib/python3.10/dist-packages (from kaggle==1.5.12) (2.2.3)\n",
            "Requirement already satisfied: text-unidecode>=1.3 in /usr/local/lib/python3.10/dist-packages (from python-slugify->kaggle==1.5.12) (1.3)\n",
            "Requirement already satisfied: charset-normalizer<4,>=2 in /usr/local/lib/python3.10/dist-packages (from requests->kaggle==1.5.12) (3.4.0)\n",
            "Requirement already satisfied: idna<4,>=2.5 in /usr/local/lib/python3.10/dist-packages (from requests->kaggle==1.5.12) (3.10)\n",
            "Building wheels for collected packages: kaggle\n",
            "  Building wheel for kaggle (setup.py) ... \u001b[?25l\u001b[?25hdone\n",
            "  Created wheel for kaggle: filename=kaggle-1.5.12-py3-none-any.whl size=73026 sha256=673f66d2cce63cf6006258f34eabe05ba25ba6d8c321ae98e1eff3c26ff99a2d\n",
            "  Stored in directory: /root/.cache/pip/wheels/70/0c/e6/79103212a102e78b8453691b905f48000219574ba7137e7207\n",
            "Successfully built kaggle\n",
            "Installing collected packages: kaggle\n",
            "  Attempting uninstall: kaggle\n",
            "    Found existing installation: kaggle 1.6.17\n",
            "    Uninstalling kaggle-1.6.17:\n",
            "      Successfully uninstalled kaggle-1.6.17\n",
            "Successfully installed kaggle-1.5.12\n"
          ]
        }
      ],
      "source": [
        "!pip install kaggle==1.5.12"
      ]
    },
    {
      "cell_type": "code",
      "source": [
        "# !mkdir -p ~/.kaggle\n",
        "# !cp /content/kaggle.json ~/.kaggle/\n",
        "# !chmod 600 ~/.kaggle/kaggle.json"
      ],
      "metadata": {
        "id": "skEbaIQXwHbY"
      },
      "id": "skEbaIQXwHbY",
      "execution_count": 13,
      "outputs": []
    },
    {
      "cell_type": "code",
      "source": [
        "!kaggle competitions download -c ml-zoomcamp-2024-competition"
      ],
      "metadata": {
        "id": "ElTXXwGpyqRk",
        "outputId": "e88f3096-2a7c-4b07-f6f4-e94bdeb70e64",
        "colab": {
          "base_uri": "https://localhost:8080/"
        }
      },
      "id": "ElTXXwGpyqRk",
      "execution_count": 14,
      "outputs": [
        {
          "output_type": "stream",
          "name": "stdout",
          "text": [
            "Downloading ml-zoomcamp-2024-competition.zip to /content\n",
            " 96% 207M/216M [00:01<00:00, 115MB/s]\n",
            "100% 216M/216M [00:01<00:00, 121MB/s]\n"
          ]
        }
      ]
    },
    {
      "cell_type": "code",
      "source": [
        "!unzip ml-zoomcamp-2024-competition.zip"
      ],
      "metadata": {
        "id": "xRO5u1p1wssU",
        "outputId": "13c51bff-d6d6-4d41-e133-9f597e800b2e",
        "colab": {
          "base_uri": "https://localhost:8080/"
        }
      },
      "id": "xRO5u1p1wssU",
      "execution_count": 16,
      "outputs": [
        {
          "output_type": "stream",
          "name": "stdout",
          "text": [
            "Archive:  ml-zoomcamp-2024-competition.zip\n",
            "  inflating: actual_matrix.csv       \n",
            "  inflating: catalog.csv             \n",
            "  inflating: discounts_history.csv   \n",
            "  inflating: markdowns.csv           \n",
            "  inflating: online.csv              \n",
            "  inflating: price_history.csv       \n",
            "  inflating: sales.csv               \n",
            "  inflating: sample_submission.csv   \n",
            "  inflating: stores.csv              \n",
            "  inflating: test.csv                \n"
          ]
        }
      ]
    },
    {
      "cell_type": "code",
      "source": [
        "!unzip ml-zoomcamp-2024-competition.zip -d kaggle_ZC-2024_data/"
      ],
      "metadata": {
        "id": "v8FYN73BzGCD",
        "outputId": "6803dbc5-ee92-4489-fba8-26aabb756e4d",
        "colab": {
          "base_uri": "https://localhost:8080/"
        }
      },
      "id": "v8FYN73BzGCD",
      "execution_count": 26,
      "outputs": [
        {
          "output_type": "stream",
          "name": "stdout",
          "text": [
            "Archive:  ml-zoomcamp-2024-competition.zip\n",
            "  inflating: kaggle_ZC-2024_data/actual_matrix.csv  \n",
            "  inflating: kaggle_ZC-2024_data/catalog.csv  \n",
            "  inflating: kaggle_ZC-2024_data/discounts_history.csv  \n",
            "  inflating: kaggle_ZC-2024_data/markdowns.csv  \n",
            "  inflating: kaggle_ZC-2024_data/online.csv  \n",
            "  inflating: kaggle_ZC-2024_data/price_history.csv  \n",
            "  inflating: kaggle_ZC-2024_data/sales.csv  \n",
            "  inflating: kaggle_ZC-2024_data/sample_submission.csv  \n",
            "  inflating: kaggle_ZC-2024_data/stores.csv  \n",
            "  inflating: kaggle_ZC-2024_data/test.csv  \n"
          ]
        }
      ]
    },
    {
      "cell_type": "code",
      "source": [
        "import pandas as pd\n",
        "import numpy as np"
      ],
      "metadata": {
        "id": "r0OvGUrI0ajD"
      },
      "id": "r0OvGUrI0ajD",
      "execution_count": 27,
      "outputs": []
    },
    {
      "cell_type": "code",
      "source": [
        "sales = pd.DataFrame(pd.read_csv('/content/kaggle_ZC-2024_data/sales.csv'))"
      ],
      "metadata": {
        "id": "c3nCarcG1gIa"
      },
      "id": "c3nCarcG1gIa",
      "execution_count": 30,
      "outputs": []
    },
    {
      "cell_type": "code",
      "source": [
        "sales.date  = pd.to_datetime(sales.date)"
      ],
      "metadata": {
        "id": "7KsY5w-D13oa"
      },
      "id": "7KsY5w-D13oa",
      "execution_count": 39,
      "outputs": []
    },
    {
      "cell_type": "code",
      "source": [
        "sales.date.hist(bins=365 , figsize=(20,5) )"
      ],
      "metadata": {
        "id": "rkZx4ZU517xJ",
        "outputId": "0cfadd0e-009c-465d-c9e9-e9671cf01448",
        "colab": {
          "base_uri": "https://localhost:8080/",
          "height": 345
        }
      },
      "id": "rkZx4ZU517xJ",
      "execution_count": 45,
      "outputs": [
        {
          "output_type": "execute_result",
          "data": {
            "text/plain": [
              "<Axes: >"
            ]
          },
          "metadata": {},
          "execution_count": 45
        },
        {
          "output_type": "display_data",
          "data": {
            "text/plain": [
              "<Figure size 2000x500 with 1 Axes>"
            ],
            "image/png": "[encoded data removed]"
          },
          "metadata": {}
        }
      ]
    }
  ],
  "metadata": {
    "kernelspec": {
      "display_name": "Python 3 (ipykernel)",
      "language": "python",
      "name": "python3"
    },
    "language_info": {
      "codemirror_mode": {
        "name": "ipython",
        "version": 3
      },
      "file_extension": ".py",
      "mimetype": "text/x-python",
      "name": "python",
      "nbconvert_exporter": "python",
      "pygments_lexer": "ipython3",
      "version": "3.12.1"
    },
    "colab": {
      "provenance": []
    }
  },
  "nbformat": 4,
  "nbformat_minor": 5
}